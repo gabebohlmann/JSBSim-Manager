{
 "cells": [
  {
   "cell_type": "markdown",
   "metadata": {},
   "source": [
    "# Build A Rocket And Launch It\n",
    "\n",
    "Procedurally build and simulate a flight. This is my attempt to use the [open aerospace rocket documentation tool](https://open-aerospace.github.io/openrocketdoc/) to describe a rocket and generate JSBSim configuration to simulate its flight.\n",
    "\n",
    "View the raw jupyter notebook: [rocket.ipynb](https://github.com/natronics/JSBSim-Manager/blob/master/rocket.ipynb)\n",
    "\n",
    "You can run it yourself by cloning this repo and install requirements:\n",
    "\n",
    "    $ pip install -r requirements.txt\n",
    "\n",
    "Then run jupyter to edit/run the document in your browser:\n",
    "\n",
    "    $ jupyter notebook\n",
    "\n",
    "The idea is that you can make up some numbers (\"what if I built a rocket with _this_ much thrust?\") and this script will parametrically design an entire rocket. Then using openrocketdoc, generate a valid JSBSim case and run JSBSim for you, generating flight simulation output.\n",
    "\n",
    "Just put in numbers for the engine design and then run the notebook!\n",
    "\n",
    "\n",
    "## Step 1. Design The Engine\n",
    "\n",
    "Pick an engine design. Well define it based on a desired Isp, thrust, and burn time."
   ]
  },
  {
   "cell_type": "code",
   "execution_count": 2,
   "metadata": {
    "collapsed": false
   },
   "outputs": [
    {
     "name": "stdout",
     "output_type": "stream",
     "text": [
      "Engine Design parameters:\n",
      "\n",
      "      Input     |   Number  | Units \n",
      " -------------- | --------: | :---- \n",
      "            Isp |     214.0 | s\n",
      "         Thrust |   1,555.0 | N\n",
      "      Burn Time |      10.0 | s\n"
     ]
    }
   ],
   "source": [
    "import locale\n",
    "from openrocketdoc import document\n",
    "from openrocketdoc import writers\n",
    "locale.setlocale(locale.LC_ALL, 'en_US.UTF-8')\n",
    "\n",
    "###############################################################\n",
    "#  CHANGE THESE NUMBERS!! IT'S FUN.\n",
    "thrust     = 1555.0  # N\n",
    "burn_time  =   10.0  # s\n",
    "isp        =  214.0  # s\n",
    "################################################################\n",
    "\n",
    "# Create an engine document\n",
    "engine = document.Engine('Python Motor')\n",
    "\n",
    "# Set our design\n",
    "engine.Isp = isp\n",
    "engine.thrust_avg = thrust\n",
    "engine.t_burn = burn_time\n",
    "\n",
    "# Print setup\n",
    "print(\"Engine Design parameters:\\n\")\n",
    "print(\"      Input     |   Number  | Units \")\n",
    "print(\" -------------- | --------: | :---- \")\n",
    "\n",
    "print(\" %14s |  %8.1f | %s\" % (\"Isp\", engine.Isp, \"s\"))\n",
    "print(\" %14s |  %s | %s\" % (\"Thrust\", locale.format_string(\"%8.1f\", engine.thrust_avg, grouping=True), \"N\"))\n",
    "print(\" %14s |  %8.1f | %s\" % (\"Burn Time\", engine.t_burn, \"s\"))\n"
   ]
  },
  {
   "cell_type": "markdown",
   "metadata": {},
   "source": [
    "All we need to do is create an openrocketdoc Engine with those basic numbers:\n",
    "\n",
    "```python\n",
    "from openrocketdoc import document\n",
    "\n",
    "engine = document.Engine('My Rocket Motor')\n",
    "engine.Isp = 214.0\n",
    "engine.thrust_avg = 1555.0\n",
    "engine.t_burn = 10.0\n",
    "```\n",
    "\n",
    "Everything else can be computed from that engine class:"
   ]
  },
  {
   "cell_type": "code",
   "execution_count": null,
   "metadata": {
    "collapsed": false
   },
   "outputs": [],
   "source": [
    "# The Open Rocket Document can compute useful values based on what we defined above.\n",
    "print(\"\\nOur computed engine will need %0.1f kg of propellent.\" % engine.m_prop, )\n",
    "print(\"It has a total impulse of %s Ns. That would make it a '%s'(%0.0f%%) class motor.\" % (\n",
    "        locale.format(\"%d\", engine.I_total, grouping=True),\n",
    "        engine.nar_code,\n",
    "        engine.nar_percent\n",
    "     ))\n",
    "\n",
    "jsbsim_engine_file = writers.JSBSimEngine.dump(engine)\n",
    "print(\"\\nGenerated JSBSim engine document:\\n\\n```xml\")\n",
    "print(jsbsim_engine_file)\n",
    "print(\"```\")"
   ]
  },
  {
   "cell_type": "markdown",
   "metadata": {},
   "source": [
    "## Step 2. Build The Rocket\n",
    "\n",
    "Now we know how much propellent, guess the density and come up with some parametric rocket design. If we compute some numbers based on a guess of the density of our propellent, we can build up a full rocket desgin from our `engine`. The only hardcoded magic is a prefered lenght-to-diameter ratio."
   ]
  },
  {
   "cell_type": "code",
   "execution_count": null,
   "metadata": {
    "collapsed": false
   },
   "outputs": [],
   "source": [
    "prop_density = 1750      # kg/m3  Roughtly HTPB composite solid density[1]\n",
    "LD           =   10      # Length to width ratio\n",
    "Nose_LD      =    5\n",
    "\n",
    "# [1] http://www.lr.tudelft.nl/en/organisation/departments/space-engineering/space-systems-engineering/expertise-areas/space-propulsion/design-of-elements/rocket-propellants/solids/\n",
    "\n",
    "print(\"Rocket Design parameters:\\n\")\n",
    "print(\"          Input         |   Number  | Units \")\n",
    "print(\" ---------------------- | --------: | :---- \")\n",
    "\n",
    "print(\" %22s |  %s | %s\" % (\"Propellent Density\", locale.format(\"%8.1f\", engine.thrust_avg, grouping=True), \"kg/m3\"))\n",
    "print(\" %22s |  %8.1f | \" % (\"Motor L/D ratio\", 10))\n",
    "print(\" %22s |  %8.1f | \" % (\"Nosecone L/D ratio\", 5))\n"
   ]
  },
  {
   "cell_type": "code",
   "execution_count": null,
   "metadata": {
    "collapsed": false
   },
   "outputs": [],
   "source": [
    "from math import pi\n",
    "\n",
    "# volume of propellent needed\n",
    "prop_volume = engine.m_prop/prop_density\n",
    "\n",
    "# Solve for the radius/length of the fuel grain (assume solid, end burning)\n",
    "engine.diameter = 2*(prop_volume/ (2*LD*pi))**(1/3.0)\n",
    "engine.length = engine.diameter * LD\n",
    "\n",
    "# Add a nose\n",
    "nose = document.Nosecone(\n",
    "    document.Noseshape.TANGENT_OGIVE,  # Shape\n",
    "    1.0, # shape_parameter\n",
    "    1.5, # mass\n",
    "    engine.diameter * Nose_LD,\n",
    "    diameter=engine.diameter,\n",
    "    material_name=\"Aluminium\"\n",
    ")\n",
    "\n",
    "# Payload section\n",
    "payload = document.Bodytube(\n",
    "    \"Payload\",  # Name\n",
    "    2.5,        # mass\n",
    "    0.33,       # length\n",
    "    diameter=engine.diameter,\n",
    "    material_name=\"Aluminium\"\n",
    ")\n",
    "\n",
    "# Body section the size of the engine\n",
    "body = document.Bodytube(\n",
    "    \"Body\",  # Name\n",
    "    1.5,     # mass\n",
    "    engine.length,\n",
    "    diameter=engine.diameter,\n",
    "    material_name=\"Aluminium\"\n",
    ")\n",
    "\n",
    "body.components = [engine]\n",
    "\n",
    "# Rocket:\n",
    "rocket = document.Rocket(\"Rocket\")\n",
    "rocket.aero_properties['CD'] = [0.6]\n",
    "stage0 = document.Stage(\"Sustainer\")\n",
    "stage0.components = [nose, payload, body]\n",
    "rocket.stages = [stage0]\n",
    "\n",
    "# Print:\n",
    "print(\"Computed rocket length: %0.1f meters, diameter: %0.2f mm\\n\" % ((nose.length + payload.length + body.length), (engine.diameter*1000.0)))\n",
    "print(\"Generated diagram of the rocket, with a nosecone, fixed length dummy payload section, and motor:\")\n",
    "\n",
    "from IPython.display import SVG, display\n",
    "display(SVG(writers.SVG.dump(rocket)))"
   ]
  },
  {
   "cell_type": "code",
   "execution_count": null,
   "metadata": {
    "collapsed": false
   },
   "outputs": [],
   "source": [
    "jsbsim_aircraft_file = writers.JSBSimAircraft.dump(rocket)\n",
    "\n",
    "print(\"Generated JSBSim 'Aircraft' document:\\n\\n```xml\")\n",
    "print(jsbsim_aircraft_file)\n",
    "print(\"```\")"
   ]
  },
  {
   "cell_type": "markdown",
   "metadata": {},
   "source": [
    "## Build JSBSim Case\n",
    "\n",
    "JSBSim needs several files in directories with a particular file structure. We simply write the files above to the filesystem appropriate places. A generic `run.xml` and `init.xml` files are already here. They're almost completely independent from the rocket definitions, the only thing \"hard coded\" is the name of the rocket (which has to match the filename)."
   ]
  },
  {
   "cell_type": "code",
   "execution_count": null,
   "metadata": {
    "collapsed": true
   },
   "outputs": [],
   "source": [
    "import os\n",
    "\n",
    "aircraft_path = os.path.join(\"aircraft\", rocket.name_slug)\n",
    "engine_path = \"engine\"\n",
    "\n",
    "if not os.path.exists(aircraft_path):\n",
    "    os.makedirs(aircraft_path)\n",
    "if not os.path.exists(engine_path):\n",
    "    os.makedirs(engine_path)\n",
    "    \n",
    "aircraft_filename = rocket.name_slug + '.xml'\n",
    "with open(os.path.join(aircraft_path, aircraft_filename), 'w') as outfile:\n",
    "    outfile.write(jsbsim_aircraft_file)\n",
    "\n",
    "engine_filename = engine.name_slug + '.xml'\n",
    "with open(os.path.join(engine_path, engine_filename), 'w') as outfile:\n",
    "    outfile.write(jsbsim_engine_file)\n",
    "\n",
    "nozzle_filename = engine.name_slug + '_nozzle.xml'\n",
    "with open(os.path.join(engine_path, nozzle_filename), 'w') as outfile:\n",
    "    outfile.write(\"\"\"<?xml version=\"1.0\"?>\n",
    "<nozzle name=\"Nozzle\">\n",
    "  <area unit=\"M2\"> 0.001 </area>\n",
    "</nozzle>\n",
    "\"\"\")"
   ]
  },
  {
   "cell_type": "markdown",
   "metadata": {},
   "source": [
    "## Run JSBSim\n",
    "\n",
    "Now we can simulate the flight by invoking JSBSim (assuming you have it installed and in your path). It's as easy as this:\n",
    "\n",
    "```python\n",
    "import subprocess\n",
    "# Run JSBSim using Popen\n",
    "p = subprocess.Popen([\"JSBSim\", \"--logdirectivefile=output_file.xml\", \"--script=run.xml\"])\n",
    "```"
   ]
  },
  {
   "cell_type": "code",
   "execution_count": null,
   "metadata": {
    "collapsed": true
   },
   "outputs": [],
   "source": [
    "import subprocess\n",
    "import time\n",
    "# Run JSBSim using Popen\n",
    "p = subprocess.Popen([\"JSBSim\", \"--logdirectivefile=output_file.xml\", \"--script=run.xml\"])\n",
    "time.sleep(10) # let it run"
   ]
  },
  {
   "cell_type": "markdown",
   "metadata": {},
   "source": [
    "## Analyze The Simulation Results\n",
    "\n",
    "Now we should have a datafile from the simulation!"
   ]
  },
  {
   "cell_type": "code",
   "execution_count": null,
   "metadata": {
    "collapsed": false
   },
   "outputs": [],
   "source": [
    "import csv\n",
    "# Read data from JSBSim\n",
    "\n",
    "FPS2M = 0.3048\n",
    "LBF2N = 4.44822\n",
    "LBS2KG = 0.453592\n",
    "\n",
    "max_alt = 0\n",
    "max_alt_time = 0\n",
    "sim_time = []\n",
    "measured_accel_x = []\n",
    "sim_vel_up = []\n",
    "sim_alt = []\n",
    "with open('data.csv') as datafile:\n",
    "    reader = csv.reader(datafile, delimiter=',')\n",
    "    for row in reader:\n",
    "        # ignore first line\n",
    "        if row[0][0] == 'T':\n",
    "            continue\n",
    "        time      = float(row[0])           # s\n",
    "        alt       = float(row[1])           # m\n",
    "        thrust    = float(row[2]) * LBF2N   # N\n",
    "        weight    = float(row[3]) * LBS2KG  # kg\n",
    "        vel       = float(row[4]) * FPS2M   # m/s\n",
    "        vel_down  = float(row[5]) * FPS2M   # m/s\n",
    "        downrange = float(row[6]) * FPS2M   # m\n",
    "        aoa       = float(row[7])           # deg\n",
    "        force_x   = float(row[8]) * LBF2N   # N\n",
    "\n",
    "        sim_time.append(time)\n",
    "        # compute measured accel (IMU)\n",
    "        measured_accel_x.append(force_x/weight)\n",
    "        sim_vel_up.append(-vel_down)\n",
    "        sim_alt.append(alt)\n",
    "\n",
    "        # max alt\n",
    "        if alt > max_alt:\n",
    "            max_alt = alt\n",
    "            max_alt_time = time\n",
    "print(\"The apogee (maximum altitude) of this flight was %0.1f km above sea level\" % (max_alt/1000.0))"
   ]
  },
  {
   "cell_type": "code",
   "execution_count": null,
   "metadata": {
    "collapsed": false
   },
   "outputs": [],
   "source": [
    "import matplotlib.pyplot as plt\n",
    "%matplotlib inline\n",
    "\n",
    "fig, ax1 = plt.subplots(figsize=(18,7))\n",
    "plt.title(r\"Simulated Rocket Altitude\")\n",
    "plt.ylabel(r\"Altitude MSL [meters]\")\n",
    "plt.xlabel(r\"Time [s]\")\n",
    "\n",
    "plt.plot(sim_time, sim_alt, lw=1.8, alpha=0.6)\n",
    "\n",
    "plt.ylim([sim_alt[0]-500,max_alt + 1000])\n",
    "plt.xlim([0, max_alt_time])\n",
    "plt.show()"
   ]
  },
  {
   "cell_type": "code",
   "execution_count": null,
   "metadata": {
    "collapsed": false
   },
   "outputs": [],
   "source": [
    "fig, ax1 = plt.subplots(figsize=(18,7))\n",
    "plt.title(r\"Simulated Rocket Velocity\")\n",
    "plt.ylabel(r\"Velocity [m/s]\")\n",
    "plt.xlabel(r\"Time [s]\")\n",
    "\n",
    "plt.plot(sim_time, sim_vel_up, lw=1.8, alpha=0.6)\n",
    "\n",
    "#plt.ylim([sim_alt[0]-500,max_alt + 1000])\n",
    "plt.xlim([0, max_alt_time])\n",
    "plt.show()"
   ]
  },
  {
   "cell_type": "markdown",
   "metadata": {},
   "source": []
  }
 ],
 "metadata": {
  "kernelspec": {
   "display_name": "Python 3",
   "language": "python",
   "name": "python3"
  },
  "language_info": {
   "codemirror_mode": {
    "name": "ipython",
    "version": 3
   },
   "file_extension": ".py",
   "mimetype": "text/x-python",
   "name": "python",
   "nbconvert_exporter": "python",
   "pygments_lexer": "ipython3",
   "version": "3.12.2"
  }
 },
 "nbformat": 4,
 "nbformat_minor": 0
}
