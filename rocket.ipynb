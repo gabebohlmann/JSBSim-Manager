{
 "cells": [
  {
   "cell_type": "markdown",
   "metadata": {},
   "source": [
    "# Build A Rocket And Launch It\n",
    "\n",
    "Procedurally build and simulate a flight. This is my attempt to use the [open aerospace rocket documentation tool](https://open-aerospace.github.io/openrocketdoc/) to describe a rocket and generate JSBSim configuration to simulate its flight.\n",
    "\n",
    "View the raw jupyter notebook: [rocket.ipynb](https://github.com/natronics/JSBSim-Manager/blob/master/rocket.ipynb)\n",
    "\n",
    "You can run it yourself by cloning this repo and install requirements:\n",
    "\n",
    "    $ pip install -r requirements.txt\n",
    "\n",
    "Then run jupyter to edit/run the document in your browser:\n",
    "\n",
    "    $ jupyter notebook\n",
    "\n",
    "The idea is that you can make up some numbers (\"what if I built a rocket with _this_ much thrust?\") and this script will parametrically design an entire rocket. Then using openrocketdoc, generate a valid JSBSim case and run JSBSim for you, generating flight simulation output.\n",
    "\n",
    "Just put in numbers for the engine design and then run the notebook!\n",
    "\n",
    "\n",
    "## Step 1. Design The Engine\n",
    "\n",
    "Pick an engine design. Well define it based on a desired Isp, thrust, and burn time."
   ]
  },
  {
   "cell_type": "code",
   "execution_count": 2,
   "metadata": {
    "collapsed": false
   },
   "outputs": [
    {
     "name": "stdout",
     "output_type": "stream",
     "text": [
      "Engine Design parameters:\n",
      "\n",
      "      Input     |   Number  | Units \n",
      " -------------- | --------: | :---- \n",
      "            Isp |     214.0 | s\n",
      "         Thrust |   1,555.0 | N\n",
      "      Burn Time |      10.0 | s\n"
     ]
    }
   ],
   "source": [
    "import locale\n",
    "from openrocketdoc import document\n",
    "from openrocketdoc import writers\n",
    "locale.setlocale(locale.LC_ALL, 'en_US.UTF-8')\n",
    "\n",
    "###############################################################\n",
    "#  CHANGE THESE NUMBERS!! IT'S FUN.\n",
    "thrust     = 1555.0  # N\n",
    "burn_time  =   10.0  # s\n",
    "isp        =  214.0  # s\n",
    "################################################################\n",
    "\n",
    "# Create an engine document\n",
    "engine = document.Engine('Python Motor')\n",
    "\n",
    "# Set our design\n",
    "engine.Isp = isp\n",
    "engine.thrust_avg = thrust\n",
    "engine.t_burn = burn_time\n",
    "\n",
    "# Print setup\n",
    "print(\"Engine Design parameters:\\n\")\n",
    "print(\"      Input     |   Number  | Units \")\n",
    "print(\" -------------- | --------: | :---- \")\n",
    "\n",
    "print(\" %14s |  %8.1f | %s\" % (\"Isp\", engine.Isp, \"s\"))\n",
    "print(\" %14s |  %s | %s\" % (\"Thrust\", locale.format_string(\"%8.1f\", engine.thrust_avg, grouping=True), \"N\"))\n",
    "print(\" %14s |  %8.1f | %s\" % (\"Burn Time\", engine.t_burn, \"s\"))\n"
   ]
  },
  {
   "cell_type": "markdown",
   "metadata": {},
   "source": [
    "All we need to do is create an openrocketdoc Engine with those basic numbers:\n",
    "\n",
    "```python\n",
    "from openrocketdoc import document\n",
    "\n",
    "engine = document.Engine('My Rocket Motor')\n",
    "engine.Isp = 214.0\n",
    "engine.thrust_avg = 1555.0\n",
    "engine.t_burn = 10.0\n",
    "```\n",
    "\n",
    "Everything else can be computed from that engine class:"
   ]
  },
  {
   "cell_type": "code",
   "execution_count": 4,
   "metadata": {
    "collapsed": false
   },
   "outputs": [
    {
     "name": "stdout",
     "output_type": "stream",
     "text": [
      "\n",
      "Our computed engine will need 7.4 kg of propellent.\n",
      "It has a total impulse of 15,550 Ns. That would make it a 'N'(52%) class motor.\n",
      "\n",
      "Generated JSBSim engine document:\n",
      "\n",
      "```xml\n",
      "<?xml version=\"1.0\" ?>\n",
      "<rocket_engine name=\"Python Motor\">\n",
      "  <isp>214.0</isp>\n",
      "  <builduptime>0.1</builduptime>\n",
      "  <thrust_table name=\"propulsion/thrust_prop_remain\" type=\"internal\">\n",
      "    <tableData>\n",
      "      0.000 349.578\n",
      "      5.445 349.578\n",
      "      10.890 349.578\n",
      "    </tableData>\n",
      "  </thrust_table>\n",
      "</rocket_engine>\n",
      "\n",
      "```\n"
     ]
    }
   ],
   "source": [
    "# The Open Rocket Document can compute useful values based on what we defined above.\n",
    "print(\"\\nOur computed engine will need %0.1f kg of propellent.\" % engine.m_prop, )\n",
    "print(\"It has a total impulse of %s Ns. That would make it a '%s'(%0.0f%%) class motor.\" % (\n",
    "        locale.format_string(\"%d\", engine.I_total, grouping=True),\n",
    "        engine.nar_code,\n",
    "        engine.nar_percent\n",
    "     ))\n",
    "\n",
    "jsbsim_engine_file = writers.JSBSimEngine.dump(engine)\n",
    "print(\"\\nGenerated JSBSim engine document:\\n\\n```xml\")\n",
    "print(jsbsim_engine_file)\n",
    "print(\"```\")"
   ]
  },
  {
   "cell_type": "markdown",
   "metadata": {},
   "source": [
    "## Step 2. Build The Rocket\n",
    "\n",
    "Now we know how much propellent, guess the density and come up with some parametric rocket design. If we compute some numbers based on a guess of the density of our propellent, we can build up a full rocket desgin from our `engine`. The only hardcoded magic is a prefered lenght-to-diameter ratio."
   ]
  },
  {
   "cell_type": "code",
   "execution_count": 6,
   "metadata": {
    "collapsed": false
   },
   "outputs": [
    {
     "name": "stdout",
     "output_type": "stream",
     "text": [
      "Rocket Design parameters:\n",
      "\n",
      "          Input         |   Number  | Units \n",
      " ---------------------- | --------: | :---- \n",
      "     Propellent Density |   1,555.0 | kg/m3\n",
      "        Motor L/D ratio |      10.0 | \n",
      "     Nosecone L/D ratio |       5.0 | \n"
     ]
    }
   ],
   "source": [
    "prop_density = 1750      # kg/m3  Roughtly HTPB composite solid density[1]\n",
    "LD           =   10      # Length to width ratio\n",
    "Nose_LD      =    5\n",
    "\n",
    "# [1] http://www.lr.tudelft.nl/en/organisation/departments/space-engineering/space-systems-engineering/expertise-areas/space-propulsion/design-of-elements/rocket-propellants/solids/\n",
    "\n",
    "print(\"Rocket Design parameters:\\n\")\n",
    "print(\"          Input         |   Number  | Units \")\n",
    "print(\" ---------------------- | --------: | :---- \")\n",
    "\n",
    "print(\" %22s |  %s | %s\" % (\"Propellent Density\", locale.format_string(\"%8.1f\", engine.thrust_avg, grouping=True), \"kg/m3\"))\n",
    "print(\" %22s |  %8.1f | \" % (\"Motor L/D ratio\", 10))\n",
    "print(\" %22s |  %8.1f | \" % (\"Nosecone L/D ratio\", 5))\n"
   ]
  },
  {
   "cell_type": "code",
   "execution_count": 7,
   "metadata": {
    "collapsed": false
   },
   "outputs": [
    {
     "name": "stdout",
     "output_type": "stream",
     "text": [
      "Computed rocket length: 1.6 meters, diameter: 81.39 mm\n",
      "\n",
      "Generated diagram of the rocket, with a nosecone, fixed length dummy payload section, and motor:\n"
     ]
    },
    {
     "ename": "AttributeError",
     "evalue": "'Engine' object has no attribute 'components'",
     "output_type": "error",
     "traceback": [
      "\u001b[1;31m---------------------------------------------------------------------------\u001b[0m",
      "\u001b[1;31mAttributeError\u001b[0m                            Traceback (most recent call last)",
      "Cell \u001b[1;32mIn[7], line 52\u001b[0m\n\u001b[0;32m     49\u001b[0m \u001b[38;5;28mprint\u001b[39m(\u001b[38;5;124m\"\u001b[39m\u001b[38;5;124mGenerated diagram of the rocket, with a nosecone, fixed length dummy payload section, and motor:\u001b[39m\u001b[38;5;124m\"\u001b[39m)\n\u001b[0;32m     51\u001b[0m \u001b[38;5;28;01mfrom\u001b[39;00m \u001b[38;5;21;01mIPython\u001b[39;00m\u001b[38;5;21;01m.\u001b[39;00m\u001b[38;5;21;01mdisplay\u001b[39;00m \u001b[38;5;28;01mimport\u001b[39;00m SVG, display\n\u001b[1;32m---> 52\u001b[0m display(SVG(\u001b[43mwriters\u001b[49m\u001b[38;5;241;43m.\u001b[39;49m\u001b[43mSVG\u001b[49m\u001b[38;5;241;43m.\u001b[39;49m\u001b[43mdump\u001b[49m\u001b[43m(\u001b[49m\u001b[43mrocket\u001b[49m\u001b[43m)\u001b[49m))\n",
      "File \u001b[1;32mc:\\Users\\gabeb\\OneDrive - UW-Madison\\Sr_Design\\JSBSim\\JSBSim-Manager\\venv\\Lib\\site-packages\\openrocketdoc\\writers.py:490\u001b[0m, in \u001b[0;36mSVG.dump\u001b[1;34m(cls, ordoc, drawscale, drawborder, annotate)\u001b[0m\n\u001b[0;32m    487\u001b[0m         svg\u001b[38;5;241m.\u001b[39m_draw_annotation(position, component)\n\u001b[0;32m    489\u001b[0m     \u001b[38;5;66;03m# draw real components and subcomponents\u001b[39;00m\n\u001b[1;32m--> 490\u001b[0m     position \u001b[38;5;241m=\u001b[39m \u001b[43msvg\u001b[49m\u001b[38;5;241;43m.\u001b[39;49m\u001b[43m_draw_component\u001b[49m\u001b[43m(\u001b[49m\u001b[43mdrawing\u001b[49m\u001b[43m,\u001b[49m\u001b[43m \u001b[49m\u001b[43mposition\u001b[49m\u001b[43m,\u001b[49m\u001b[43m \u001b[49m\u001b[38;5;28;43;01mNone\u001b[39;49;00m\u001b[43m,\u001b[49m\u001b[43m \u001b[49m\u001b[43mcomponent\u001b[49m\u001b[43m)\u001b[49m\n\u001b[0;32m    492\u001b[0m drawing\u001b[38;5;241m.\u001b[39mattrib[\u001b[38;5;124m'\u001b[39m\u001b[38;5;124mtransform\u001b[39m\u001b[38;5;124m'\u001b[39m] \u001b[38;5;241m=\u001b[39m \u001b[38;5;124m\"\u001b[39m\u001b[38;5;124mtranslate(300,600)\u001b[39m\u001b[38;5;124m\"\u001b[39m\n\u001b[0;32m    494\u001b[0m \u001b[38;5;28;01mif\u001b[39;00m drawscale:\n",
      "File \u001b[1;32mc:\\Users\\gabeb\\OneDrive - UW-Madison\\Sr_Design\\JSBSim\\JSBSim-Manager\\venv\\Lib\\site-packages\\openrocketdoc\\writers.py:460\u001b[0m, in \u001b[0;36mSVG._draw_component\u001b[1;34m(self, doc, position, parent, component)\u001b[0m\n\u001b[0;32m    457\u001b[0m         findraw\u001b[38;5;241m.\u001b[39mattrib[\u001b[38;5;124m'\u001b[39m\u001b[38;5;124mtransform\u001b[39m\u001b[38;5;124m'\u001b[39m] \u001b[38;5;241m=\u001b[39m \u001b[38;5;124m\"\u001b[39m\u001b[38;5;124mrotate(\u001b[39m\u001b[38;5;132;01m%0.2f\u001b[39;00m\u001b[38;5;124m, 900, 700)\u001b[39m\u001b[38;5;124m\"\u001b[39m \u001b[38;5;241m%\u001b[39m (i \u001b[38;5;241m*\u001b[39m (\u001b[38;5;241m360\u001b[39m\u001b[38;5;241m/\u001b[39mcomponent\u001b[38;5;241m.\u001b[39mnumber_of_fins))\n\u001b[0;32m    459\u001b[0m \u001b[38;5;28;01mfor\u001b[39;00m sub \u001b[38;5;129;01min\u001b[39;00m component\u001b[38;5;241m.\u001b[39mcomponents:\n\u001b[1;32m--> 460\u001b[0m     \u001b[38;5;28;43mself\u001b[39;49m\u001b[38;5;241;43m.\u001b[39;49m\u001b[43m_draw_component\u001b[49m\u001b[43m(\u001b[49m\u001b[43mdoc\u001b[49m\u001b[43m,\u001b[49m\u001b[43m \u001b[49m\u001b[43mposition\u001b[49m\u001b[43m,\u001b[49m\u001b[43m \u001b[49m\u001b[43mcomponent\u001b[49m\u001b[43m,\u001b[49m\u001b[43m \u001b[49m\u001b[43msub\u001b[49m\u001b[43m)\u001b[49m\n\u001b[0;32m    461\u001b[0m \u001b[38;5;28;01mreturn\u001b[39;00m position\n",
      "File \u001b[1;32mc:\\Users\\gabeb\\OneDrive - UW-Madison\\Sr_Design\\JSBSim\\JSBSim-Manager\\venv\\Lib\\site-packages\\openrocketdoc\\writers.py:459\u001b[0m, in \u001b[0;36mSVG._draw_component\u001b[1;34m(self, doc, position, parent, component)\u001b[0m\n\u001b[0;32m    456\u001b[0m         findraw\u001b[38;5;241m.\u001b[39mattrib[\u001b[38;5;124m'\u001b[39m\u001b[38;5;124mheight\u001b[39m\u001b[38;5;124m'\u001b[39m] \u001b[38;5;241m=\u001b[39m \u001b[38;5;124m\"\u001b[39m\u001b[38;5;124m8\u001b[39m\u001b[38;5;124m\"\u001b[39m\n\u001b[0;32m    457\u001b[0m         findraw\u001b[38;5;241m.\u001b[39mattrib[\u001b[38;5;124m'\u001b[39m\u001b[38;5;124mtransform\u001b[39m\u001b[38;5;124m'\u001b[39m] \u001b[38;5;241m=\u001b[39m \u001b[38;5;124m\"\u001b[39m\u001b[38;5;124mrotate(\u001b[39m\u001b[38;5;132;01m%0.2f\u001b[39;00m\u001b[38;5;124m, 900, 700)\u001b[39m\u001b[38;5;124m\"\u001b[39m \u001b[38;5;241m%\u001b[39m (i \u001b[38;5;241m*\u001b[39m (\u001b[38;5;241m360\u001b[39m\u001b[38;5;241m/\u001b[39mcomponent\u001b[38;5;241m.\u001b[39mnumber_of_fins))\n\u001b[1;32m--> 459\u001b[0m \u001b[38;5;28;01mfor\u001b[39;00m sub \u001b[38;5;129;01min\u001b[39;00m \u001b[43mcomponent\u001b[49m\u001b[38;5;241;43m.\u001b[39;49m\u001b[43mcomponents\u001b[49m:\n\u001b[0;32m    460\u001b[0m     \u001b[38;5;28mself\u001b[39m\u001b[38;5;241m.\u001b[39m_draw_component(doc, position, component, sub)\n\u001b[0;32m    461\u001b[0m \u001b[38;5;28;01mreturn\u001b[39;00m position\n",
      "\u001b[1;31mAttributeError\u001b[0m: 'Engine' object has no attribute 'components'"
     ]
    }
   ],
   "source": [
    "from math import pi\n",
    "\n",
    "# volume of propellent needed\n",
    "prop_volume = engine.m_prop/prop_density\n",
    "\n",
    "# Solve for the radius/length of the fuel grain (assume solid, end burning)\n",
    "engine.diameter = 2*(prop_volume/ (2*LD*pi))**(1/3.0)\n",
    "engine.length = engine.diameter * LD\n",
    "\n",
    "# Add a nose\n",
    "nose = document.Nosecone(\n",
    "    document.Noseshape.TANGENT_OGIVE,  # Shape\n",
    "    1.0, # shape_parameter\n",
    "    1.5, # mass\n",
    "    engine.diameter * Nose_LD,\n",
    "    diameter=engine.diameter,\n",
    "    material_name=\"Aluminium\"\n",
    ")\n",
    "\n",
    "# Payload section\n",
    "payload = document.Bodytube(\n",
    "    \"Payload\",  # Name\n",
    "    2.5,        # mass\n",
    "    0.33,       # length\n",
    "    diameter=engine.diameter,\n",
    "    material_name=\"Aluminium\"\n",
    ")\n",
    "\n",
    "# Body section the size of the engine\n",
    "body = document.Bodytube(\n",
    "    \"Body\",  # Name\n",
    "    1.5,     # mass\n",
    "    engine.length,\n",
    "    diameter=engine.diameter,\n",
    "    material_name=\"Aluminium\"\n",
    ")\n",
    "\n",
    "body.components = [engine]\n",
    "\n",
    "# Rocket:\n",
    "rocket = document.Rocket(\"Rocket\")\n",
    "rocket.aero_properties['CD'] = [0.6]\n",
    "stage0 = document.Stage(\"Sustainer\")\n",
    "stage0.components = [nose, payload, body]\n",
    "rocket.stages = [stage0]\n",
    "\n",
    "# Print:\n",
    "print(\"Computed rocket length: %0.1f meters, diameter: %0.2f mm\\n\" % ((nose.length + payload.length + body.length), (engine.diameter*1000.0)))\n",
    "print(\"Generated diagram of the rocket, with a nosecone, fixed length dummy payload section, and motor:\")\n",
    "\n",
    "from IPython.display import SVG, display\n",
    "display(SVG(writers.SVG.dump(rocket)))"
   ]
  },
  {
   "cell_type": "code",
   "execution_count": null,
   "metadata": {
    "collapsed": false
   },
   "outputs": [],
   "source": [
    "jsbsim_aircraft_file = writers.JSBSimAircraft.dump(rocket)\n",
    "\n",
    "print(\"Generated JSBSim 'Aircraft' document:\\n\\n```xml\")\n",
    "print(jsbsim_aircraft_file)\n",
    "print(\"```\")"
   ]
  },
  {
   "cell_type": "markdown",
   "metadata": {},
   "source": [
    "## Build JSBSim Case\n",
    "\n",
    "JSBSim needs several files in directories with a particular file structure. We simply write the files above to the filesystem appropriate places. A generic `run.xml` and `init.xml` files are already here. They're almost completely independent from the rocket definitions, the only thing \"hard coded\" is the name of the rocket (which has to match the filename)."
   ]
  },
  {
   "cell_type": "code",
   "execution_count": 8,
   "metadata": {
    "collapsed": true
   },
   "outputs": [
    {
     "ename": "NameError",
     "evalue": "name 'jsbsim_aircraft_file' is not defined",
     "output_type": "error",
     "traceback": [
      "\u001b[1;31m---------------------------------------------------------------------------\u001b[0m",
      "\u001b[1;31mNameError\u001b[0m                                 Traceback (most recent call last)",
      "Cell \u001b[1;32mIn[8], line 13\u001b[0m\n\u001b[0;32m     11\u001b[0m aircraft_filename \u001b[38;5;241m=\u001b[39m rocket\u001b[38;5;241m.\u001b[39mname_slug \u001b[38;5;241m+\u001b[39m \u001b[38;5;124m'\u001b[39m\u001b[38;5;124m.xml\u001b[39m\u001b[38;5;124m'\u001b[39m\n\u001b[0;32m     12\u001b[0m \u001b[38;5;28;01mwith\u001b[39;00m \u001b[38;5;28mopen\u001b[39m(os\u001b[38;5;241m.\u001b[39mpath\u001b[38;5;241m.\u001b[39mjoin(aircraft_path, aircraft_filename), \u001b[38;5;124m'\u001b[39m\u001b[38;5;124mw\u001b[39m\u001b[38;5;124m'\u001b[39m) \u001b[38;5;28;01mas\u001b[39;00m outfile:\n\u001b[1;32m---> 13\u001b[0m     outfile\u001b[38;5;241m.\u001b[39mwrite(\u001b[43mjsbsim_aircraft_file\u001b[49m)\n\u001b[0;32m     15\u001b[0m engine_filename \u001b[38;5;241m=\u001b[39m engine\u001b[38;5;241m.\u001b[39mname_slug \u001b[38;5;241m+\u001b[39m \u001b[38;5;124m'\u001b[39m\u001b[38;5;124m.xml\u001b[39m\u001b[38;5;124m'\u001b[39m\n\u001b[0;32m     16\u001b[0m \u001b[38;5;28;01mwith\u001b[39;00m \u001b[38;5;28mopen\u001b[39m(os\u001b[38;5;241m.\u001b[39mpath\u001b[38;5;241m.\u001b[39mjoin(engine_path, engine_filename), \u001b[38;5;124m'\u001b[39m\u001b[38;5;124mw\u001b[39m\u001b[38;5;124m'\u001b[39m) \u001b[38;5;28;01mas\u001b[39;00m outfile:\n",
      "\u001b[1;31mNameError\u001b[0m: name 'jsbsim_aircraft_file' is not defined"
     ]
    }
   ],
   "source": [
    "import os\n",
    "\n",
    "aircraft_path = os.path.join(\"aircraft\", rocket.name_slug)\n",
    "engine_path = \"engine\"\n",
    "\n",
    "if not os.path.exists(aircraft_path):\n",
    "    os.makedirs(aircraft_path)\n",
    "if not os.path.exists(engine_path):\n",
    "    os.makedirs(engine_path)\n",
    "    \n",
    "aircraft_filename = rocket.name_slug + '.xml'\n",
    "with open(os.path.join(aircraft_path, aircraft_filename), 'w') as outfile:\n",
    "    outfile.write(jsbsim_aircraft_file)\n",
    "\n",
    "engine_filename = engine.name_slug + '.xml'\n",
    "with open(os.path.join(engine_path, engine_filename), 'w') as outfile:\n",
    "    outfile.write(jsbsim_engine_file)\n",
    "\n",
    "nozzle_filename = engine.name_slug + '_nozzle.xml'\n",
    "with open(os.path.join(engine_path, nozzle_filename), 'w') as outfile:\n",
    "    outfile.write(\"\"\"<?xml version=\"1.0\"?>\n",
    "<nozzle name=\"Nozzle\">\n",
    "  <area unit=\"M2\"> 0.001 </area>\n",
    "</nozzle>\n",
    "\"\"\")"
   ]
  },
  {
   "cell_type": "markdown",
   "metadata": {},
   "source": [
    "## Run JSBSim\n",
    "\n",
    "Now we can simulate the flight by invoking JSBSim (assuming you have it installed and in your path). It's as easy as this:\n",
    "\n",
    "```python\n",
    "import subprocess\n",
    "# Run JSBSim using Popen\n",
    "p = subprocess.Popen([\"JSBSim\", \"--logdirectivefile=output_file.xml\", \"--script=run.xml\"])\n",
    "```"
   ]
  },
  {
   "cell_type": "code",
   "execution_count": null,
   "metadata": {
    "collapsed": true
   },
   "outputs": [],
   "source": [
    "import subprocess\n",
    "import time\n",
    "# Run JSBSim using Popen\n",
    "p = subprocess.Popen([\"JSBSim\", \"--logdirectivefile=output_file.xml\", \"--script=run.xml\"])\n",
    "time.sleep(10) # let it run"
   ]
  },
  {
   "cell_type": "markdown",
   "metadata": {},
   "source": [
    "## Analyze The Simulation Results\n",
    "\n",
    "Now we should have a datafile from the simulation!"
   ]
  },
  {
   "cell_type": "code",
   "execution_count": null,
   "metadata": {
    "collapsed": false
   },
   "outputs": [],
   "source": [
    "import csv\n",
    "# Read data from JSBSim\n",
    "\n",
    "FPS2M = 0.3048\n",
    "LBF2N = 4.44822\n",
    "LBS2KG = 0.453592\n",
    "\n",
    "max_alt = 0\n",
    "max_alt_time = 0\n",
    "sim_time = []\n",
    "measured_accel_x = []\n",
    "sim_vel_up = []\n",
    "sim_alt = []\n",
    "with open('data.csv') as datafile:\n",
    "    reader = csv.reader(datafile, delimiter=',')\n",
    "    for row in reader:\n",
    "        # ignore first line\n",
    "        if row[0][0] == 'T':\n",
    "            continue\n",
    "        time      = float(row[0])           # s\n",
    "        alt       = float(row[1])           # m\n",
    "        thrust    = float(row[2]) * LBF2N   # N\n",
    "        weight    = float(row[3]) * LBS2KG  # kg\n",
    "        vel       = float(row[4]) * FPS2M   # m/s\n",
    "        vel_down  = float(row[5]) * FPS2M   # m/s\n",
    "        downrange = float(row[6]) * FPS2M   # m\n",
    "        aoa       = float(row[7])           # deg\n",
    "        force_x   = float(row[8]) * LBF2N   # N\n",
    "\n",
    "        sim_time.append(time)\n",
    "        # compute measured accel (IMU)\n",
    "        measured_accel_x.append(force_x/weight)\n",
    "        sim_vel_up.append(-vel_down)\n",
    "        sim_alt.append(alt)\n",
    "\n",
    "        # max alt\n",
    "        if alt > max_alt:\n",
    "            max_alt = alt\n",
    "            max_alt_time = time\n",
    "print(\"The apogee (maximum altitude) of this flight was %0.1f km above sea level\" % (max_alt/1000.0))"
   ]
  },
  {
   "cell_type": "code",
   "execution_count": null,
   "metadata": {
    "collapsed": false
   },
   "outputs": [],
   "source": [
    "import matplotlib.pyplot as plt\n",
    "%matplotlib inline\n",
    "\n",
    "fig, ax1 = plt.subplots(figsize=(18,7))\n",
    "plt.title(r\"Simulated Rocket Altitude\")\n",
    "plt.ylabel(r\"Altitude MSL [meters]\")\n",
    "plt.xlabel(r\"Time [s]\")\n",
    "\n",
    "plt.plot(sim_time, sim_alt, lw=1.8, alpha=0.6)\n",
    "\n",
    "plt.ylim([sim_alt[0]-500,max_alt + 1000])\n",
    "plt.xlim([0, max_alt_time])\n",
    "plt.show()"
   ]
  },
  {
   "cell_type": "code",
   "execution_count": null,
   "metadata": {
    "collapsed": false
   },
   "outputs": [],
   "source": [
    "fig, ax1 = plt.subplots(figsize=(18,7))\n",
    "plt.title(r\"Simulated Rocket Velocity\")\n",
    "plt.ylabel(r\"Velocity [m/s]\")\n",
    "plt.xlabel(r\"Time [s]\")\n",
    "\n",
    "plt.plot(sim_time, sim_vel_up, lw=1.8, alpha=0.6)\n",
    "\n",
    "#plt.ylim([sim_alt[0]-500,max_alt + 1000])\n",
    "plt.xlim([0, max_alt_time])\n",
    "plt.show()"
   ]
  },
  {
   "cell_type": "markdown",
   "metadata": {},
   "source": []
  }
 ],
 "metadata": {
  "kernelspec": {
   "display_name": "Python 3",
   "language": "python",
   "name": "python3"
  },
  "language_info": {
   "codemirror_mode": {
    "name": "ipython",
    "version": 3
   },
   "file_extension": ".py",
   "mimetype": "text/x-python",
   "name": "python",
   "nbconvert_exporter": "python",
   "pygments_lexer": "ipython3",
   "version": "3.12.2"
  }
 },
 "nbformat": 4,
 "nbformat_minor": 0
}
